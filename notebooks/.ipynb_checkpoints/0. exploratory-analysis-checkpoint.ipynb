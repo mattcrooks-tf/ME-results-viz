{
 "cells": [
  {
   "cell_type": "markdown",
   "id": "e3cd81b1",
   "metadata": {},
   "source": [
    "# Example Notebook\n",
    "Try and include some sort of description here."
   ]
  },
  {
   "cell_type": "markdown",
   "id": "54eec9e0",
   "metadata": {},
   "source": [
    "# Import packages"
   ]
  },
  {
   "cell_type": "markdown",
   "id": "b3ae891e",
   "metadata": {},
   "source": [
    "## Setup"
   ]
  },
  {
   "cell_type": "code",
   "execution_count": 1,
   "id": "1b718d96",
   "metadata": {},
   "outputs": [],
   "source": [
    "# This command reloads our modules as we edit them\n",
    "%load_ext autoreload\n",
    "%autoreload 2\n",
    "\n",
    "# Add our source folder to the path\n",
    "import sys\n",
    "sys.path.append(\"../src/\")\n",
    "\n",
    "# Useful to have logging shown here\n",
    "import logging\n",
    "logging.basicConfig(format='%(asctime)s - %(name)s - %(levelname)s - %(message)s', level=logging.INFO)"
   ]
  },
  {
   "cell_type": "markdown",
   "id": "6982e445",
   "metadata": {},
   "source": [
    "## Import Packages"
   ]
  },
  {
   "cell_type": "code",
   "execution_count": 8,
   "id": "764389cf",
   "metadata": {},
   "outputs": [],
   "source": [
    "import pandas as pd"
   ]
  },
  {
   "cell_type": "code",
   "execution_count": 9,
   "id": "0ef9069c",
   "metadata": {},
   "outputs": [],
   "source": [
    "from visualisation import plot_results"
   ]
  },
  {
   "cell_type": "markdown",
   "id": "a49c7adc",
   "metadata": {},
   "source": [
    "# Exploratory Analysis"
   ]
  },
  {
   "cell_type": "code",
   "execution_count": 11,
   "id": "34b3111e",
   "metadata": {},
   "outputs": [
    {
     "name": "stderr",
     "output_type": "stream",
     "text": [
      "/Users/matthew.crooks/Documents/github/ME-results-viz/notebooks/../src/results.py:14: RuntimeWarning: invalid value encountered in sqrt\n",
      "  sig = np.sqrt(p * q / n)\n"
     ]
    },
    {
     "ename": "NameError",
     "evalue": "name 'get_main_box_dimensions' is not defined",
     "output_type": "error",
     "traceback": [
      "\u001b[0;31m---------------------------------------------------------------------------\u001b[0m",
      "\u001b[0;31mNameError\u001b[0m                                 Traceback (most recent call last)",
      "\u001b[0;32m/var/folders/ky/mc91dxlj0vg9zf00h3p4xy180000gq/T/ipykernel_5963/3665114929.py\u001b[0m in \u001b[0;36m<module>\u001b[0;34m\u001b[0m\n\u001b[1;32m      7\u001b[0m \u001b[0;34m\u001b[0m\u001b[0m\n\u001b[1;32m      8\u001b[0m \u001b[0malpha_level\u001b[0m\u001b[0;34m=\u001b[0m\u001b[0;36m0.025\u001b[0m\u001b[0;34m\u001b[0m\u001b[0;34m\u001b[0m\u001b[0m\n\u001b[0;32m----> 9\u001b[0;31m \u001b[0mf\u001b[0m\u001b[0;34m,\u001b[0m \u001b[0max\u001b[0m \u001b[0;34m=\u001b[0m \u001b[0mplot_results\u001b[0m\u001b[0;34m(\u001b[0m\u001b[0mdf\u001b[0m\u001b[0;34m,\u001b[0m \u001b[0malpha_level\u001b[0m\u001b[0;34m)\u001b[0m\u001b[0;34m\u001b[0m\u001b[0;34m\u001b[0m\u001b[0m\n\u001b[0m",
      "\u001b[0;32m~/Documents/github/ME-results-viz/notebooks/../src/visualisation.py\u001b[0m in \u001b[0;36mplot_results\u001b[0;34m(df, alpha_level)\u001b[0m\n\u001b[1;32m     41\u001b[0m \u001b[0;34m\u001b[0m\u001b[0m\n\u001b[1;32m     42\u001b[0m     \u001b[0;31m#     # Add labels\u001b[0m\u001b[0;34m\u001b[0m\u001b[0;34m\u001b[0m\u001b[0m\n\u001b[0;32m---> 43\u001b[0;31m     \u001b[0max\u001b[0m \u001b[0;34m=\u001b[0m \u001b[0madd_text_labels\u001b[0m\u001b[0;34m(\u001b[0m\u001b[0max\u001b[0m\u001b[0;34m,\u001b[0m \u001b[0mvariant_labels\u001b[0m\u001b[0;34m)\u001b[0m\u001b[0;34m\u001b[0m\u001b[0;34m\u001b[0m\u001b[0m\n\u001b[0m\u001b[1;32m     44\u001b[0m \u001b[0;34m\u001b[0m\u001b[0m\n\u001b[1;32m     45\u001b[0m     \u001b[0;31m#     # Add Arrows\u001b[0m\u001b[0;34m\u001b[0m\u001b[0;34m\u001b[0m\u001b[0m\n",
      "\u001b[0;32m~/Documents/github/ME-results-viz/notebooks/../src/viz_text.py\u001b[0m in \u001b[0;36madd_text_labels\u001b[0;34m(ax, variant_labels)\u001b[0m\n\u001b[1;32m     80\u001b[0m \u001b[0;32mdef\u001b[0m \u001b[0madd_text_labels\u001b[0m\u001b[0;34m(\u001b[0m\u001b[0max\u001b[0m\u001b[0;34m,\u001b[0m \u001b[0mvariant_labels\u001b[0m\u001b[0;34m)\u001b[0m\u001b[0;34m:\u001b[0m\u001b[0;34m\u001b[0m\u001b[0;34m\u001b[0m\u001b[0m\n\u001b[1;32m     81\u001b[0m     \u001b[0mnumber_of_variants\u001b[0m \u001b[0;34m=\u001b[0m \u001b[0mlen\u001b[0m\u001b[0;34m(\u001b[0m\u001b[0mvariant_labels\u001b[0m\u001b[0;34m)\u001b[0m\u001b[0;34m\u001b[0m\u001b[0;34m\u001b[0m\u001b[0m\n\u001b[0;32m---> 82\u001b[0;31m     main_box_width, main_box_spacing, main_box_height = get_main_box_dimensions(\n\u001b[0m\u001b[1;32m     83\u001b[0m         number_of_variants)\n\u001b[1;32m     84\u001b[0m     inner_box_width, inner_box_padding, inner_box_height = get_inner_box_dimensions(\n",
      "\u001b[0;31mNameError\u001b[0m: name 'get_main_box_dimensions' is not defined"
     ]
    },
    {
     "data": {
      "image/png": "[encoded data removed]",
      "text/plain": [
       "<Figure size 720x360 with 1 Axes>"
      ]
     },
     "metadata": {},
     "output_type": "display_data"
    }
   ],
   "source": [
    "df = pd.DataFrame()\n",
    "df['variant_label'] = ['Control', 'Variant']\n",
    "df['Audience'] = [100, 200]\n",
    "df['Conversions'] = [50, 80]\n",
    "df['Conversion-rate'] = [50.0, 40.4]\n",
    "\n",
    "\n",
    "alpha_level=0.025\n",
    "f, ax = plot_results(df, alpha_level)"
   ]
  },
  {
   "cell_type": "code",
   "execution_count": null,
   "id": "ecd254e6",
   "metadata": {},
   "outputs": [],
   "source": []
  }
 ],
 "metadata": {
  "kernelspec": {
   "display_name": "Python 3 (ipykernel)",
   "language": "python",
   "name": "python3"
  },
  "language_info": {
   "codemirror_mode": {
    "name": "ipython",
    "version": 3
   },
   "file_extension": ".py",
   "mimetype": "text/x-python",
   "name": "python",
   "nbconvert_exporter": "python",
   "pygments_lexer": "ipython3",
   "version": "3.9.7"
  },
  "toc": {
   "base_numbering": 1,
   "nav_menu": {},
   "number_sections": true,
   "sideBar": true,
   "skip_h1_title": false,
   "title_cell": "Table of Contents",
   "title_sidebar": "Contents",
   "toc_cell": false,
   "toc_position": {},
   "toc_section_display": true,
   "toc_window_display": false
  }
 },
 "nbformat": 4,
 "nbformat_minor": 5
}
